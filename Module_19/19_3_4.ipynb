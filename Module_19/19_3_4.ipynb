{
 "cells": [
  {
   "cell_type": "code",
   "execution_count": 5,
   "metadata": {},
   "outputs": [
    {
     "data": {
      "text/html": [
       "<div>\n",
       "<style scoped>\n",
       "    .dataframe tbody tr th:only-of-type {\n",
       "        vertical-align: middle;\n",
       "    }\n",
       "\n",
       "    .dataframe tbody tr th {\n",
       "        vertical-align: top;\n",
       "    }\n",
       "\n",
       "    .dataframe thead th {\n",
       "        text-align: right;\n",
       "    }\n",
       "</style>\n",
       "<table border=\"1\" class=\"dataframe\">\n",
       "  <thead>\n",
       "    <tr style=\"text-align: right;\">\n",
       "      <th></th>\n",
       "      <th>Satisfaction_Level</th>\n",
       "      <th>Num_Projects</th>\n",
       "      <th>Time_Spent</th>\n",
       "      <th>Num_Promotions</th>\n",
       "    </tr>\n",
       "  </thead>\n",
       "  <tbody>\n",
       "    <tr>\n",
       "      <th>0</th>\n",
       "      <td>-1.303615</td>\n",
       "      <td>-1.162476</td>\n",
       "      <td>-1.049481</td>\n",
       "      <td>-0.558656</td>\n",
       "    </tr>\n",
       "    <tr>\n",
       "      <th>1</th>\n",
       "      <td>-1.512945</td>\n",
       "      <td>-1.162476</td>\n",
       "      <td>-1.094603</td>\n",
       "      <td>-1.804887</td>\n",
       "    </tr>\n",
       "    <tr>\n",
       "      <th>2</th>\n",
       "      <td>1.208335</td>\n",
       "      <td>0.860233</td>\n",
       "      <td>1.187080</td>\n",
       "      <td>1.310692</td>\n",
       "    </tr>\n",
       "    <tr>\n",
       "      <th>3</th>\n",
       "      <td>0.161689</td>\n",
       "      <td>0.185996</td>\n",
       "      <td>-0.030385</td>\n",
       "      <td>0.064460</td>\n",
       "    </tr>\n",
       "    <tr>\n",
       "      <th>4</th>\n",
       "      <td>-0.466299</td>\n",
       "      <td>-0.488240</td>\n",
       "      <td>-0.596549</td>\n",
       "      <td>-0.558656</td>\n",
       "    </tr>\n",
       "  </tbody>\n",
       "</table>\n",
       "</div>"
      ],
      "text/plain": [
       "   Satisfaction_Level  Num_Projects  Time_Spent  Num_Promotions\n",
       "0           -1.303615     -1.162476   -1.049481       -0.558656\n",
       "1           -1.512945     -1.162476   -1.094603       -1.804887\n",
       "2            1.208335      0.860233    1.187080        1.310692\n",
       "3            0.161689      0.185996   -0.030385        0.064460\n",
       "4           -0.466299     -0.488240   -0.596549       -0.558656"
      ]
     },
     "execution_count": 5,
     "metadata": {},
     "output_type": "execute_result"
    }
   ],
   "source": [
    "# Import our dependencies\n",
    "import pandas as pd\n",
    "from sklearn.preprocessing import StandardScaler\n",
    "\n",
    "# Read in our dataset\n",
    "hr_df = pd.read_csv(\"hr_dataset.csv\")\n",
    "hr_df.head()\n",
    "\n",
    "# Create the StandardScaler instance\n",
    "scaler = StandardScaler()\n",
    "\n",
    "# Fit the StandardScaler\n",
    "scaler.fit(hr_df)\n",
    "\n",
    "# Scale the data\n",
    "scaled_data = scaler.transform(hr_df)\n",
    "\n",
    "# Create a DataFrame with the scaled data\n",
    "transformed_scaled_data = pd.DataFrame(scaled_data, columns=hr_df.columns)\n",
    "transformed_scaled_data.head()\n"
   ]
  }
 ],
 "metadata": {
  "kernelspec": {
   "display_name": "Python 3.7.13 ('mlenv')",
   "language": "python",
   "name": "python3"
  },
  "language_info": {
   "codemirror_mode": {
    "name": "ipython",
    "version": 3
   },
   "file_extension": ".py",
   "mimetype": "text/x-python",
   "name": "python",
   "nbconvert_exporter": "python",
   "pygments_lexer": "ipython3",
   "version": "3.7.13"
  },
  "orig_nbformat": 4,
  "vscode": {
   "interpreter": {
    "hash": "1df32c9ed47a1abdf67446ebac67d86137e6d92ffffd54b4d14833b9fc812a64"
   }
  }
 },
 "nbformat": 4,
 "nbformat_minor": 2
}
